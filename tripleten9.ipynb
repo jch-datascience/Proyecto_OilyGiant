{
  "cells": [
    {
      "cell_type": "markdown",
      "metadata": {
        "id": "hDt7qNcZbMoa"
      },
      "source": [
        "**Descripción del proyecto**:\n",
        "\n",
        "Trabajas para la compañía minera OilyGiant. Tu tarea es encontrar el mejor lugar para un nuevo pozo.\n",
        "\n",
        "Pasos para elegir la ubicación:\n",
        "- Recolecta los parámetros del pozo de petróleo en la región seleccionada: calidad del petróleo y volumen de reservas;\n",
        "- Construye un modelo para predecir el volumen de reservas en los nuevos pozos;\n",
        "- Selecciona los pozos de petróleo con los valores estimados más altos;\n",
        "- Elige la región con el mayor beneficio total para los pozos de petróleo seleccionados.\n",
        "\n",
        "Tienes datos sobre muestras de crudo de tres regiones. Ya se conocen los parámetros de cada pozo petrolero de la región. Crea un modelo que ayude a elegir la región con el mayor margen de beneficio. Analiza los beneficios y riesgos potenciales utilizando la técnica bootstrapping.\n",
        "\n"
      ]
    },
    {
      "cell_type": "markdown",
      "metadata": {
        "id": "GO1Hukq1bMob"
      },
      "source": [
        "## Descargar y preparar los datos. Explicar el procedimiento.\n",
        "\n",
        "A continuación veremos si hay valores nulos, duplicados, valores extremos y cómo tratarlos. Además revisaremos los formatos de las columnas."
      ]
    },
    {
      "cell_type": "code",
      "execution_count": null,
      "metadata": {
        "id": "G25t9KLsbMob"
      },
      "outputs": [],
      "source": [
        "# Importamos las librerías\n",
        "\n",
        "import pandas as pd\n",
        "import numpy as np\n",
        "from scipy import stats\n",
        "import matplotlib.pyplot as plt\n",
        "import seaborn as sns\n",
        "from sklearn.model_selection import train_test_split\n",
        "from sklearn.metrics import accuracy_score\n",
        "from sklearn.linear_model import LinearRegression\n",
        "from sklearn.metrics import mean_squared_error\n"
      ]
    },
    {
      "cell_type": "code",
      "execution_count": null,
      "metadata": {
        "id": "idPsqYfebMoc"
      },
      "outputs": [],
      "source": [
        "# Cargamos los DataFrames\n",
        "\n",
        "df0 = pd.read_csv(\"/datasets/geo_data_0.csv\")\n",
        "df1 = pd.read_csv(\"/datasets/geo_data_1.csv\")\n",
        "df2 = pd.read_csv(\"/datasets/geo_data_2.csv\")"
      ]
    },
    {
      "cell_type": "code",
      "execution_count": null,
      "metadata": {
        "scrolled": true,
        "id": "dLr_YJUAbMoc",
        "outputId": "eee0b656-fdea-48d0-bcbb-e52c0d91f210"
      },
      "outputs": [
        {
          "data": {
            "text/html": [
              "<div>\n",
              "<style scoped>\n",
              "    .dataframe tbody tr th:only-of-type {\n",
              "        vertical-align: middle;\n",
              "    }\n",
              "\n",
              "    .dataframe tbody tr th {\n",
              "        vertical-align: top;\n",
              "    }\n",
              "\n",
              "    .dataframe thead th {\n",
              "        text-align: right;\n",
              "    }\n",
              "</style>\n",
              "<table border=\"1\" class=\"dataframe\">\n",
              "  <thead>\n",
              "    <tr style=\"text-align: right;\">\n",
              "      <th></th>\n",
              "      <th>id</th>\n",
              "      <th>f0</th>\n",
              "      <th>f1</th>\n",
              "      <th>f2</th>\n",
              "      <th>product</th>\n",
              "    </tr>\n",
              "  </thead>\n",
              "  <tbody>\n",
              "    <tr>\n",
              "      <th>0</th>\n",
              "      <td>txEyH</td>\n",
              "      <td>0.705745</td>\n",
              "      <td>-0.497823</td>\n",
              "      <td>1.221170</td>\n",
              "      <td>105.280062</td>\n",
              "    </tr>\n",
              "    <tr>\n",
              "      <th>1</th>\n",
              "      <td>2acmU</td>\n",
              "      <td>1.334711</td>\n",
              "      <td>-0.340164</td>\n",
              "      <td>4.365080</td>\n",
              "      <td>73.037750</td>\n",
              "    </tr>\n",
              "    <tr>\n",
              "      <th>2</th>\n",
              "      <td>409Wp</td>\n",
              "      <td>1.022732</td>\n",
              "      <td>0.151990</td>\n",
              "      <td>1.419926</td>\n",
              "      <td>85.265647</td>\n",
              "    </tr>\n",
              "    <tr>\n",
              "      <th>3</th>\n",
              "      <td>iJLyR</td>\n",
              "      <td>-0.032172</td>\n",
              "      <td>0.139033</td>\n",
              "      <td>2.978566</td>\n",
              "      <td>168.620776</td>\n",
              "    </tr>\n",
              "    <tr>\n",
              "      <th>4</th>\n",
              "      <td>Xdl7t</td>\n",
              "      <td>1.988431</td>\n",
              "      <td>0.155413</td>\n",
              "      <td>4.751769</td>\n",
              "      <td>154.036647</td>\n",
              "    </tr>\n",
              "  </tbody>\n",
              "</table>\n",
              "</div>"
            ],
            "text/plain": [
              "      id        f0        f1        f2     product\n",
              "0  txEyH  0.705745 -0.497823  1.221170  105.280062\n",
              "1  2acmU  1.334711 -0.340164  4.365080   73.037750\n",
              "2  409Wp  1.022732  0.151990  1.419926   85.265647\n",
              "3  iJLyR -0.032172  0.139033  2.978566  168.620776\n",
              "4  Xdl7t  1.988431  0.155413  4.751769  154.036647"
            ]
          },
          "execution_count": 3,
          "metadata": {},
          "output_type": "execute_result"
        }
      ],
      "source": [
        "# Damos un vistazo a los DF\n",
        "df0.head()"
      ]
    },
    {
      "cell_type": "code",
      "execution_count": null,
      "metadata": {
        "scrolled": true,
        "id": "7X5jpZN4bMod",
        "outputId": "e26f8b0b-9c11-4e9d-9be5-28909de7986d"
      },
      "outputs": [
        {
          "data": {
            "text/html": [
              "<div>\n",
              "<style scoped>\n",
              "    .dataframe tbody tr th:only-of-type {\n",
              "        vertical-align: middle;\n",
              "    }\n",
              "\n",
              "    .dataframe tbody tr th {\n",
              "        vertical-align: top;\n",
              "    }\n",
              "\n",
              "    .dataframe thead th {\n",
              "        text-align: right;\n",
              "    }\n",
              "</style>\n",
              "<table border=\"1\" class=\"dataframe\">\n",
              "  <thead>\n",
              "    <tr style=\"text-align: right;\">\n",
              "      <th></th>\n",
              "      <th>id</th>\n",
              "      <th>f0</th>\n",
              "      <th>f1</th>\n",
              "      <th>f2</th>\n",
              "      <th>product</th>\n",
              "    </tr>\n",
              "  </thead>\n",
              "  <tbody>\n",
              "    <tr>\n",
              "      <th>0</th>\n",
              "      <td>kBEdx</td>\n",
              "      <td>-15.001348</td>\n",
              "      <td>-8.276000</td>\n",
              "      <td>-0.005876</td>\n",
              "      <td>3.179103</td>\n",
              "    </tr>\n",
              "    <tr>\n",
              "      <th>1</th>\n",
              "      <td>62mP7</td>\n",
              "      <td>14.272088</td>\n",
              "      <td>-3.475083</td>\n",
              "      <td>0.999183</td>\n",
              "      <td>26.953261</td>\n",
              "    </tr>\n",
              "    <tr>\n",
              "      <th>2</th>\n",
              "      <td>vyE1P</td>\n",
              "      <td>6.263187</td>\n",
              "      <td>-5.948386</td>\n",
              "      <td>5.001160</td>\n",
              "      <td>134.766305</td>\n",
              "    </tr>\n",
              "    <tr>\n",
              "      <th>3</th>\n",
              "      <td>KcrkZ</td>\n",
              "      <td>-13.081196</td>\n",
              "      <td>-11.506057</td>\n",
              "      <td>4.999415</td>\n",
              "      <td>137.945408</td>\n",
              "    </tr>\n",
              "    <tr>\n",
              "      <th>4</th>\n",
              "      <td>AHL4O</td>\n",
              "      <td>12.702195</td>\n",
              "      <td>-8.147433</td>\n",
              "      <td>5.004363</td>\n",
              "      <td>134.766305</td>\n",
              "    </tr>\n",
              "  </tbody>\n",
              "</table>\n",
              "</div>"
            ],
            "text/plain": [
              "      id         f0         f1        f2     product\n",
              "0  kBEdx -15.001348  -8.276000 -0.005876    3.179103\n",
              "1  62mP7  14.272088  -3.475083  0.999183   26.953261\n",
              "2  vyE1P   6.263187  -5.948386  5.001160  134.766305\n",
              "3  KcrkZ -13.081196 -11.506057  4.999415  137.945408\n",
              "4  AHL4O  12.702195  -8.147433  5.004363  134.766305"
            ]
          },
          "execution_count": 4,
          "metadata": {},
          "output_type": "execute_result"
        }
      ],
      "source": [
        "df1.head()"
      ]
    },
    {
      "cell_type": "code",
      "execution_count": null,
      "metadata": {
        "scrolled": true,
        "id": "l7P8kOCHbMoe",
        "outputId": "7b2ef3e7-72bd-4429-ba57-525a2bc42781"
      },
      "outputs": [
        {
          "data": {
            "text/html": [
              "<div>\n",
              "<style scoped>\n",
              "    .dataframe tbody tr th:only-of-type {\n",
              "        vertical-align: middle;\n",
              "    }\n",
              "\n",
              "    .dataframe tbody tr th {\n",
              "        vertical-align: top;\n",
              "    }\n",
              "\n",
              "    .dataframe thead th {\n",
              "        text-align: right;\n",
              "    }\n",
              "</style>\n",
              "<table border=\"1\" class=\"dataframe\">\n",
              "  <thead>\n",
              "    <tr style=\"text-align: right;\">\n",
              "      <th></th>\n",
              "      <th>id</th>\n",
              "      <th>f0</th>\n",
              "      <th>f1</th>\n",
              "      <th>f2</th>\n",
              "      <th>product</th>\n",
              "    </tr>\n",
              "  </thead>\n",
              "  <tbody>\n",
              "    <tr>\n",
              "      <th>0</th>\n",
              "      <td>fwXo0</td>\n",
              "      <td>-1.146987</td>\n",
              "      <td>0.963328</td>\n",
              "      <td>-0.828965</td>\n",
              "      <td>27.758673</td>\n",
              "    </tr>\n",
              "    <tr>\n",
              "      <th>1</th>\n",
              "      <td>WJtFt</td>\n",
              "      <td>0.262778</td>\n",
              "      <td>0.269839</td>\n",
              "      <td>-2.530187</td>\n",
              "      <td>56.069697</td>\n",
              "    </tr>\n",
              "    <tr>\n",
              "      <th>2</th>\n",
              "      <td>ovLUW</td>\n",
              "      <td>0.194587</td>\n",
              "      <td>0.289035</td>\n",
              "      <td>-5.586433</td>\n",
              "      <td>62.871910</td>\n",
              "    </tr>\n",
              "    <tr>\n",
              "      <th>3</th>\n",
              "      <td>q6cA6</td>\n",
              "      <td>2.236060</td>\n",
              "      <td>-0.553760</td>\n",
              "      <td>0.930038</td>\n",
              "      <td>114.572842</td>\n",
              "    </tr>\n",
              "    <tr>\n",
              "      <th>4</th>\n",
              "      <td>WPMUX</td>\n",
              "      <td>-0.515993</td>\n",
              "      <td>1.716266</td>\n",
              "      <td>5.899011</td>\n",
              "      <td>149.600746</td>\n",
              "    </tr>\n",
              "  </tbody>\n",
              "</table>\n",
              "</div>"
            ],
            "text/plain": [
              "      id        f0        f1        f2     product\n",
              "0  fwXo0 -1.146987  0.963328 -0.828965   27.758673\n",
              "1  WJtFt  0.262778  0.269839 -2.530187   56.069697\n",
              "2  ovLUW  0.194587  0.289035 -5.586433   62.871910\n",
              "3  q6cA6  2.236060 -0.553760  0.930038  114.572842\n",
              "4  WPMUX -0.515993  1.716266  5.899011  149.600746"
            ]
          },
          "execution_count": 5,
          "metadata": {},
          "output_type": "execute_result"
        }
      ],
      "source": [
        "df2.head()"
      ]
    },
    {
      "cell_type": "markdown",
      "metadata": {
        "id": "p0Nq1nRobMof"
      },
      "source": [
        "Revisaremos sus distribuciones e información general."
      ]
    },
    {
      "cell_type": "code",
      "execution_count": null,
      "metadata": {
        "id": "cTI-sYx2bMof",
        "outputId": "6840e281-824e-4f80-a717-bec7a94d2613"
      },
      "outputs": [
        {
          "name": "stdout",
          "output_type": "stream",
          "text": [
            "<class 'pandas.core.frame.DataFrame'>\n",
            "RangeIndex: 100000 entries, 0 to 99999\n",
            "Data columns (total 5 columns):\n",
            " #   Column   Non-Null Count   Dtype  \n",
            "---  ------   --------------   -----  \n",
            " 0   id       100000 non-null  object \n",
            " 1   f0       100000 non-null  float64\n",
            " 2   f1       100000 non-null  float64\n",
            " 3   f2       100000 non-null  float64\n",
            " 4   product  100000 non-null  float64\n",
            "dtypes: float64(4), object(1)\n",
            "memory usage: 3.8+ MB\n"
          ]
        }
      ],
      "source": [
        "df0.info()"
      ]
    },
    {
      "cell_type": "code",
      "execution_count": null,
      "metadata": {
        "id": "TSWgQZkfbMog",
        "outputId": "de0b0cd2-ff45-480e-cb84-b9d2282ade0b"
      },
      "outputs": [
        {
          "data": {
            "text/html": [
              "<div>\n",
              "<style scoped>\n",
              "    .dataframe tbody tr th:only-of-type {\n",
              "        vertical-align: middle;\n",
              "    }\n",
              "\n",
              "    .dataframe tbody tr th {\n",
              "        vertical-align: top;\n",
              "    }\n",
              "\n",
              "    .dataframe thead th {\n",
              "        text-align: right;\n",
              "    }\n",
              "</style>\n",
              "<table border=\"1\" class=\"dataframe\">\n",
              "  <thead>\n",
              "    <tr style=\"text-align: right;\">\n",
              "      <th></th>\n",
              "      <th>f0</th>\n",
              "      <th>f1</th>\n",
              "      <th>f2</th>\n",
              "      <th>product</th>\n",
              "    </tr>\n",
              "  </thead>\n",
              "  <tbody>\n",
              "    <tr>\n",
              "      <th>count</th>\n",
              "      <td>100000.000000</td>\n",
              "      <td>100000.000000</td>\n",
              "      <td>100000.000000</td>\n",
              "      <td>100000.000000</td>\n",
              "    </tr>\n",
              "    <tr>\n",
              "      <th>mean</th>\n",
              "      <td>0.500419</td>\n",
              "      <td>0.250143</td>\n",
              "      <td>2.502647</td>\n",
              "      <td>92.500000</td>\n",
              "    </tr>\n",
              "    <tr>\n",
              "      <th>std</th>\n",
              "      <td>0.871832</td>\n",
              "      <td>0.504433</td>\n",
              "      <td>3.248248</td>\n",
              "      <td>44.288691</td>\n",
              "    </tr>\n",
              "    <tr>\n",
              "      <th>min</th>\n",
              "      <td>-1.408605</td>\n",
              "      <td>-0.848218</td>\n",
              "      <td>-12.088328</td>\n",
              "      <td>0.000000</td>\n",
              "    </tr>\n",
              "    <tr>\n",
              "      <th>25%</th>\n",
              "      <td>-0.072580</td>\n",
              "      <td>-0.200881</td>\n",
              "      <td>0.287748</td>\n",
              "      <td>56.497507</td>\n",
              "    </tr>\n",
              "    <tr>\n",
              "      <th>50%</th>\n",
              "      <td>0.502360</td>\n",
              "      <td>0.250252</td>\n",
              "      <td>2.515969</td>\n",
              "      <td>91.849972</td>\n",
              "    </tr>\n",
              "    <tr>\n",
              "      <th>75%</th>\n",
              "      <td>1.073581</td>\n",
              "      <td>0.700646</td>\n",
              "      <td>4.715088</td>\n",
              "      <td>128.564089</td>\n",
              "    </tr>\n",
              "    <tr>\n",
              "      <th>max</th>\n",
              "      <td>2.362331</td>\n",
              "      <td>1.343769</td>\n",
              "      <td>16.003790</td>\n",
              "      <td>185.364347</td>\n",
              "    </tr>\n",
              "  </tbody>\n",
              "</table>\n",
              "</div>"
            ],
            "text/plain": [
              "                  f0             f1             f2        product\n",
              "count  100000.000000  100000.000000  100000.000000  100000.000000\n",
              "mean        0.500419       0.250143       2.502647      92.500000\n",
              "std         0.871832       0.504433       3.248248      44.288691\n",
              "min        -1.408605      -0.848218     -12.088328       0.000000\n",
              "25%        -0.072580      -0.200881       0.287748      56.497507\n",
              "50%         0.502360       0.250252       2.515969      91.849972\n",
              "75%         1.073581       0.700646       4.715088     128.564089\n",
              "max         2.362331       1.343769      16.003790     185.364347"
            ]
          },
          "execution_count": 7,
          "metadata": {},
          "output_type": "execute_result"
        }
      ],
      "source": [
        "df0.describe()"
      ]
    },
    {
      "cell_type": "code",
      "execution_count": null,
      "metadata": {
        "scrolled": true,
        "id": "oxLQe_XabMog",
        "outputId": "e3d36bae-0f87-4502-80a2-bccc7488ac32"
      },
      "outputs": [
        {
          "name": "stdout",
          "output_type": "stream",
          "text": [
            "<class 'pandas.core.frame.DataFrame'>\n",
            "RangeIndex: 100000 entries, 0 to 99999\n",
            "Data columns (total 5 columns):\n",
            " #   Column   Non-Null Count   Dtype  \n",
            "---  ------   --------------   -----  \n",
            " 0   id       100000 non-null  object \n",
            " 1   f0       100000 non-null  float64\n",
            " 2   f1       100000 non-null  float64\n",
            " 3   f2       100000 non-null  float64\n",
            " 4   product  100000 non-null  float64\n",
            "dtypes: float64(4), object(1)\n",
            "memory usage: 3.8+ MB\n"
          ]
        }
      ],
      "source": [
        "df1.info()"
      ]
    },
    {
      "cell_type": "code",
      "execution_count": null,
      "metadata": {
        "id": "jDxvzlFhbMog",
        "outputId": "3f092569-0753-4cb2-c8fa-fc6ac7e2d99e"
      },
      "outputs": [
        {
          "data": {
            "text/html": [
              "<div>\n",
              "<style scoped>\n",
              "    .dataframe tbody tr th:only-of-type {\n",
              "        vertical-align: middle;\n",
              "    }\n",
              "\n",
              "    .dataframe tbody tr th {\n",
              "        vertical-align: top;\n",
              "    }\n",
              "\n",
              "    .dataframe thead th {\n",
              "        text-align: right;\n",
              "    }\n",
              "</style>\n",
              "<table border=\"1\" class=\"dataframe\">\n",
              "  <thead>\n",
              "    <tr style=\"text-align: right;\">\n",
              "      <th></th>\n",
              "      <th>f0</th>\n",
              "      <th>f1</th>\n",
              "      <th>f2</th>\n",
              "      <th>product</th>\n",
              "    </tr>\n",
              "  </thead>\n",
              "  <tbody>\n",
              "    <tr>\n",
              "      <th>count</th>\n",
              "      <td>100000.000000</td>\n",
              "      <td>100000.000000</td>\n",
              "      <td>100000.000000</td>\n",
              "      <td>100000.000000</td>\n",
              "    </tr>\n",
              "    <tr>\n",
              "      <th>mean</th>\n",
              "      <td>1.141296</td>\n",
              "      <td>-4.796579</td>\n",
              "      <td>2.494541</td>\n",
              "      <td>68.825000</td>\n",
              "    </tr>\n",
              "    <tr>\n",
              "      <th>std</th>\n",
              "      <td>8.965932</td>\n",
              "      <td>5.119872</td>\n",
              "      <td>1.703572</td>\n",
              "      <td>45.944423</td>\n",
              "    </tr>\n",
              "    <tr>\n",
              "      <th>min</th>\n",
              "      <td>-31.609576</td>\n",
              "      <td>-26.358598</td>\n",
              "      <td>-0.018144</td>\n",
              "      <td>0.000000</td>\n",
              "    </tr>\n",
              "    <tr>\n",
              "      <th>25%</th>\n",
              "      <td>-6.298551</td>\n",
              "      <td>-8.267985</td>\n",
              "      <td>1.000021</td>\n",
              "      <td>26.953261</td>\n",
              "    </tr>\n",
              "    <tr>\n",
              "      <th>50%</th>\n",
              "      <td>1.153055</td>\n",
              "      <td>-4.813172</td>\n",
              "      <td>2.011479</td>\n",
              "      <td>57.085625</td>\n",
              "    </tr>\n",
              "    <tr>\n",
              "      <th>75%</th>\n",
              "      <td>8.621015</td>\n",
              "      <td>-1.332816</td>\n",
              "      <td>3.999904</td>\n",
              "      <td>107.813044</td>\n",
              "    </tr>\n",
              "    <tr>\n",
              "      <th>max</th>\n",
              "      <td>29.421755</td>\n",
              "      <td>18.734063</td>\n",
              "      <td>5.019721</td>\n",
              "      <td>137.945408</td>\n",
              "    </tr>\n",
              "  </tbody>\n",
              "</table>\n",
              "</div>"
            ],
            "text/plain": [
              "                  f0             f1             f2        product\n",
              "count  100000.000000  100000.000000  100000.000000  100000.000000\n",
              "mean        1.141296      -4.796579       2.494541      68.825000\n",
              "std         8.965932       5.119872       1.703572      45.944423\n",
              "min       -31.609576     -26.358598      -0.018144       0.000000\n",
              "25%        -6.298551      -8.267985       1.000021      26.953261\n",
              "50%         1.153055      -4.813172       2.011479      57.085625\n",
              "75%         8.621015      -1.332816       3.999904     107.813044\n",
              "max        29.421755      18.734063       5.019721     137.945408"
            ]
          },
          "execution_count": 9,
          "metadata": {},
          "output_type": "execute_result"
        }
      ],
      "source": [
        "df1.describe()"
      ]
    },
    {
      "cell_type": "code",
      "execution_count": null,
      "metadata": {
        "id": "t6stfYUNbMoh",
        "outputId": "4dcc88a4-36ce-4d54-dd3e-5004c2d473fa"
      },
      "outputs": [
        {
          "name": "stdout",
          "output_type": "stream",
          "text": [
            "<class 'pandas.core.frame.DataFrame'>\n",
            "RangeIndex: 100000 entries, 0 to 99999\n",
            "Data columns (total 5 columns):\n",
            " #   Column   Non-Null Count   Dtype  \n",
            "---  ------   --------------   -----  \n",
            " 0   id       100000 non-null  object \n",
            " 1   f0       100000 non-null  float64\n",
            " 2   f1       100000 non-null  float64\n",
            " 3   f2       100000 non-null  float64\n",
            " 4   product  100000 non-null  float64\n",
            "dtypes: float64(4), object(1)\n",
            "memory usage: 3.8+ MB\n"
          ]
        }
      ],
      "source": [
        "df2.info()"
      ]
    },
    {
      "cell_type": "code",
      "execution_count": null,
      "metadata": {
        "id": "-U7winQIbMoh",
        "outputId": "ba8d0073-b38f-4f74-c8c9-8ede81e0312a"
      },
      "outputs": [
        {
          "data": {
            "text/html": [
              "<div>\n",
              "<style scoped>\n",
              "    .dataframe tbody tr th:only-of-type {\n",
              "        vertical-align: middle;\n",
              "    }\n",
              "\n",
              "    .dataframe tbody tr th {\n",
              "        vertical-align: top;\n",
              "    }\n",
              "\n",
              "    .dataframe thead th {\n",
              "        text-align: right;\n",
              "    }\n",
              "</style>\n",
              "<table border=\"1\" class=\"dataframe\">\n",
              "  <thead>\n",
              "    <tr style=\"text-align: right;\">\n",
              "      <th></th>\n",
              "      <th>f0</th>\n",
              "      <th>f1</th>\n",
              "      <th>f2</th>\n",
              "      <th>product</th>\n",
              "    </tr>\n",
              "  </thead>\n",
              "  <tbody>\n",
              "    <tr>\n",
              "      <th>count</th>\n",
              "      <td>100000.000000</td>\n",
              "      <td>100000.000000</td>\n",
              "      <td>100000.000000</td>\n",
              "      <td>100000.000000</td>\n",
              "    </tr>\n",
              "    <tr>\n",
              "      <th>mean</th>\n",
              "      <td>0.002023</td>\n",
              "      <td>-0.002081</td>\n",
              "      <td>2.495128</td>\n",
              "      <td>95.000000</td>\n",
              "    </tr>\n",
              "    <tr>\n",
              "      <th>std</th>\n",
              "      <td>1.732045</td>\n",
              "      <td>1.730417</td>\n",
              "      <td>3.473445</td>\n",
              "      <td>44.749921</td>\n",
              "    </tr>\n",
              "    <tr>\n",
              "      <th>min</th>\n",
              "      <td>-8.760004</td>\n",
              "      <td>-7.084020</td>\n",
              "      <td>-11.970335</td>\n",
              "      <td>0.000000</td>\n",
              "    </tr>\n",
              "    <tr>\n",
              "      <th>25%</th>\n",
              "      <td>-1.162288</td>\n",
              "      <td>-1.174820</td>\n",
              "      <td>0.130359</td>\n",
              "      <td>59.450441</td>\n",
              "    </tr>\n",
              "    <tr>\n",
              "      <th>50%</th>\n",
              "      <td>0.009424</td>\n",
              "      <td>-0.009482</td>\n",
              "      <td>2.484236</td>\n",
              "      <td>94.925613</td>\n",
              "    </tr>\n",
              "    <tr>\n",
              "      <th>75%</th>\n",
              "      <td>1.158535</td>\n",
              "      <td>1.163678</td>\n",
              "      <td>4.858794</td>\n",
              "      <td>130.595027</td>\n",
              "    </tr>\n",
              "    <tr>\n",
              "      <th>max</th>\n",
              "      <td>7.238262</td>\n",
              "      <td>7.844801</td>\n",
              "      <td>16.739402</td>\n",
              "      <td>190.029838</td>\n",
              "    </tr>\n",
              "  </tbody>\n",
              "</table>\n",
              "</div>"
            ],
            "text/plain": [
              "                  f0             f1             f2        product\n",
              "count  100000.000000  100000.000000  100000.000000  100000.000000\n",
              "mean        0.002023      -0.002081       2.495128      95.000000\n",
              "std         1.732045       1.730417       3.473445      44.749921\n",
              "min        -8.760004      -7.084020     -11.970335       0.000000\n",
              "25%        -1.162288      -1.174820       0.130359      59.450441\n",
              "50%         0.009424      -0.009482       2.484236      94.925613\n",
              "75%         1.158535       1.163678       4.858794     130.595027\n",
              "max         7.238262       7.844801      16.739402     190.029838"
            ]
          },
          "execution_count": 11,
          "metadata": {},
          "output_type": "execute_result"
        }
      ],
      "source": [
        "df2.describe()"
      ]
    },
    {
      "cell_type": "code",
      "execution_count": null,
      "metadata": {
        "scrolled": true,
        "id": "Joz4KDGQbMoh",
        "outputId": "fe33314a-e3b5-4ce0-a01a-89fb7f1737ff"
      },
      "outputs": [
        {
          "name": "stdout",
          "output_type": "stream",
          "text": [
            "id         0\n",
            "f0         0\n",
            "f1         0\n",
            "f2         0\n",
            "product    0\n",
            "dtype: int64\n",
            "\n",
            "id         0\n",
            "f0         0\n",
            "f1         0\n",
            "f2         0\n",
            "product    0\n",
            "dtype: int64\n",
            "\n",
            "id         0\n",
            "f0         0\n",
            "f1         0\n",
            "f2         0\n",
            "product    0\n",
            "dtype: int64\n"
          ]
        }
      ],
      "source": [
        "# Revisamos valores ausentes para cada DataFrame\n",
        "\n",
        "print(df0.isna().sum())\n",
        "print()\n",
        "print(df1.isna().sum())\n",
        "print()\n",
        "print(df2.isna().sum())"
      ]
    },
    {
      "cell_type": "code",
      "execution_count": null,
      "metadata": {
        "id": "Xi_GWAlgbMoh",
        "outputId": "cc96684b-bd29-4a9d-d060-7a118613f828"
      },
      "outputs": [
        {
          "name": "stdout",
          "output_type": "stream",
          "text": [
            "0\n",
            "0\n",
            "0\n"
          ]
        }
      ],
      "source": [
        "# Revisamos duplicados\n",
        "\n",
        "print(df0.duplicated().sum())\n",
        "print(df1.duplicated().sum())\n",
        "print(df2.duplicated().sum())"
      ]
    },
    {
      "cell_type": "markdown",
      "metadata": {
        "id": "4N5kowG-bMoi"
      },
      "source": [
        "### Hallazgos:\n",
        "- Los 3 DataFrames se componen de 100.000 filas y 5 columnas.\n",
        "- Los formatos de las columnas son correctos y los formatos de los nombres de las columnas también.\n",
        "- No hay valores nulos en los DF.\n",
        "- Tampoco hay valores duplicados.\n",
        "\n"
      ]
    },
    {
      "cell_type": "markdown",
      "metadata": {
        "id": "br8bS9OxbMoi"
      },
      "source": [
        "Ahora estamos listos para entrenar nuestro modelo de regresión!"
      ]
    },
    {
      "cell_type": "markdown",
      "metadata": {
        "id": "GGYoNW8EbMoi"
      },
      "source": [
        "## Entrena y prueba el modelo para cada región:\n",
        "\n",
        "Ahora entrenaremos un modelo de regresión lineal para cada región y analizaremos su rendimiento."
      ]
    },
    {
      "cell_type": "markdown",
      "metadata": {
        "id": "5OlbYWTrbMoi"
      },
      "source": [
        "### Entrenamos el modelo para **df0**"
      ]
    },
    {
      "cell_type": "code",
      "execution_count": null,
      "metadata": {
        "id": "2M-9Lp4CbMoi"
      },
      "outputs": [],
      "source": [
        "# Establecemos el target y los features\n",
        "\n",
        "target_0 = df0[\"product\"]\n",
        "features_0 =  df0.drop(columns=[\"product\", \"id\"])"
      ]
    },
    {
      "cell_type": "code",
      "execution_count": null,
      "metadata": {
        "id": "hMNZWEa4bMoi"
      },
      "outputs": [],
      "source": [
        "# Dividimos los datos en un conjunto de entrenamiento y un conjunto de validación en una proporción de 75:25\n",
        "\n",
        "random_state = 200\n",
        "X_train_0, X_val_0, y_train_0, y_val_0 = train_test_split(features_0,\n",
        "                                                    target_0,\n",
        "                                                    test_size=0.25,\n",
        "                                                    random_state=random_state)"
      ]
    },
    {
      "cell_type": "code",
      "execution_count": null,
      "metadata": {
        "id": "QWlakeEgbMoj",
        "outputId": "3939c7e0-8266-4177-8969-956c0878d0bf"
      },
      "outputs": [
        {
          "data": {
            "text/plain": [
              "LinearRegression()"
            ]
          },
          "execution_count": 16,
          "metadata": {},
          "output_type": "execute_result"
        }
      ],
      "source": [
        "# Entrenamos el modelo\n",
        "\n",
        "lr_0 = LinearRegression()\n",
        "lr_0.fit(X_train_0, y_train_0)"
      ]
    },
    {
      "cell_type": "code",
      "execution_count": null,
      "metadata": {
        "scrolled": true,
        "id": "73a6t6lEbMoj"
      },
      "outputs": [],
      "source": [
        "# Hacemos las predicciones para el conjunto de validación\n",
        "\n",
        "lr_predictions_0 = lr_0.predict(X_val_0)"
      ]
    },
    {
      "cell_type": "code",
      "execution_count": null,
      "metadata": {
        "id": "HGOpEAbPbMoj",
        "outputId": "135eb40b-6fc0-4742-bc06-0384512d5454"
      },
      "outputs": [
        {
          "name": "stdout",
          "output_type": "stream",
          "text": [
            "Volumen promedio de las reservas: 92.50000000000001\n",
            "Linear Regression RMSE: 37.7213\n"
          ]
        }
      ],
      "source": [
        "# Mostramos en la pantalla el volumen promedio de las reservas previstas y la RECM del modelo\n",
        "\n",
        "print(f\"Volumen promedio de las reservas: {df0['product'].mean()}\")\n",
        "print(f\"Linear Regression RMSE: {round(mean_squared_error(y_val_0, lr_predictions_0, squared=False), 4)}\")"
      ]
    },
    {
      "cell_type": "code",
      "execution_count": null,
      "metadata": {
        "id": "s9u3xE1UbMoj",
        "outputId": "bec403f2-a5d4-470e-c109-50a9bbfc10e7"
      },
      "outputs": [
        {
          "data": {
            "image/png": "[encoded data removed]",
            "text/plain": [
              "<Figure size 648x432 with 1 Axes>"
            ]
          },
          "metadata": {
            "needs_background": "light"
          },
          "output_type": "display_data"
        }
      ],
      "source": [
        "# Graficamos las predicciones y el rendimiento del modelo\n",
        "\n",
        "plt.figure(figsize=(9,6))\n",
        "plt.scatter(x=lr_predictions_0, y = y_val_0)\n",
        "plt.plot([0, 200], [0, 200], color = \"red\", ls=\"--\")\n",
        "plt.show()"
      ]
    },
    {
      "cell_type": "markdown",
      "metadata": {
        "id": "a4qg40fkbMoj"
      },
      "source": [
        "- De acuerdo al RMSE nuestro modelo se equivoca en promedio por 38.86 unidades, lo cual es bastante teniendo en cuenta que el valor promedio de las reservas es de 85.44.\n",
        "\n",
        "- Por otro lado, el gráfico nos muestra una correlación no muy alta, debido a que muchos de los valores están alejados de la recta."
      ]
    },
    {
      "cell_type": "markdown",
      "metadata": {
        "id": "7a3zsr5VbMoj"
      },
      "source": [
        "### Entrenamos el modelo para **f1**"
      ]
    },
    {
      "cell_type": "code",
      "execution_count": null,
      "metadata": {
        "id": "q3KFB0LJbMoj"
      },
      "outputs": [],
      "source": [
        "# Establecemos el target y los features\n",
        "\n",
        "target_1 = df1[\"product\"]\n",
        "features_1 =  df1.drop(columns=[\"product\", \"id\"])"
      ]
    },
    {
      "cell_type": "code",
      "execution_count": null,
      "metadata": {
        "id": "mnfOu4zZbMok"
      },
      "outputs": [],
      "source": [
        "# Dividimos los datos en un conjunto de entrenamiento y un conjunto de validación en una proporción de 75:25\n",
        "\n",
        "random_state = 200\n",
        "X_train_1, X_val_1, y_train_1, y_val_1 = train_test_split(features_1,\n",
        "                                                    target_1,\n",
        "                                                    test_size=0.25,\n",
        "                                                    random_state=random_state)"
      ]
    },
    {
      "cell_type": "code",
      "execution_count": null,
      "metadata": {
        "id": "FUnpFjwKbMok",
        "outputId": "0bd489d3-b647-4731-d99c-c241031f5a44"
      },
      "outputs": [
        {
          "data": {
            "text/plain": [
              "LinearRegression()"
            ]
          },
          "execution_count": 22,
          "metadata": {},
          "output_type": "execute_result"
        }
      ],
      "source": [
        "# Entrenamos el modelo\n",
        "\n",
        "lr_1 = LinearRegression()\n",
        "lr_1.fit(X_train_1, y_train_1)"
      ]
    },
    {
      "cell_type": "code",
      "execution_count": null,
      "metadata": {
        "id": "PO3ES1SJbMok"
      },
      "outputs": [],
      "source": [
        "# Hacemos las predicciones para el conjunto de validación\n",
        "\n",
        "lr_predictions_1 = lr_1.predict(X_val_1)"
      ]
    },
    {
      "cell_type": "code",
      "execution_count": null,
      "metadata": {
        "id": "jUj6u0nrbMok",
        "outputId": "03081a8c-7a52-4285-9555-13e43e59d509"
      },
      "outputs": [
        {
          "name": "stdout",
          "output_type": "stream",
          "text": [
            "Volumen promedio de las reservas: 68.82500000000002\n",
            "Linear Regression RMSE: 0.8888\n"
          ]
        }
      ],
      "source": [
        "# Mostramos en la pantalla el volumen promedio de las reservas previstas y la RECM del modelo\n",
        "\n",
        "print(f\"Volumen promedio de las reservas: {df1['product'].mean()}\")\n",
        "print(f\"Linear Regression RMSE: {round(mean_squared_error(y_val_1, lr_predictions_1, squared=False), 4)}\")"
      ]
    },
    {
      "cell_type": "code",
      "execution_count": null,
      "metadata": {
        "id": "28ABihEFbMok",
        "outputId": "60f03a92-1cbe-4f4c-d004-0083e096d51c"
      },
      "outputs": [
        {
          "data": {
            "image/png": "[encoded data removed]",
            "text/plain": [
              "<Figure size 648x432 with 1 Axes>"
            ]
          },
          "metadata": {
            "needs_background": "light"
          },
          "output_type": "display_data"
        }
      ],
      "source": [
        "# Graficamos las predicciones y el rendimiento del modelo\n",
        "\n",
        "plt.figure(figsize=(9,6))\n",
        "plt.scatter(x=lr_predictions_1, y = y_val_1)\n",
        "plt.plot([0, 200], [0, 200], color = \"red\", ls=\"--\")\n",
        "plt.show()"
      ]
    },
    {
      "cell_type": "markdown",
      "metadata": {
        "id": "l60siQUFbMol"
      },
      "source": [
        "- De acuerdo al RMSE nuestro modelo se equivoca en promedio por 0.88 unidades, un valor bastante bajo que, en este caso nos indica un desempeño bastante alto.\n",
        "- Por otro lado, el gráfico nos muestra una correlación bastante alta, debido a que todos los valores están bastante cerca de la recta."
      ]
    },
    {
      "cell_type": "markdown",
      "metadata": {
        "id": "F7Anqvy8bMol"
      },
      "source": [
        "### Entrenamos el modelo para **f2**"
      ]
    },
    {
      "cell_type": "code",
      "execution_count": null,
      "metadata": {
        "id": "71ZOU6fGbMop"
      },
      "outputs": [],
      "source": [
        "# Establecemos el target y los features\n",
        "\n",
        "target_2 = df2[\"product\"]\n",
        "features_2 =  df2.drop(columns=[\"product\", \"id\"])"
      ]
    },
    {
      "cell_type": "code",
      "execution_count": null,
      "metadata": {
        "id": "HVBghbWpbMop"
      },
      "outputs": [],
      "source": [
        "# Dividimos los datos en un conjunto de entrenamiento y un conjunto de validación en una proporción de 75:25\n",
        "\n",
        "random_state = 200\n",
        "X_train_2, X_val_2, y_train_2, y_val_2 = train_test_split(features_2,\n",
        "                                                    target_2,\n",
        "                                                    test_size=0.25,\n",
        "                                                    random_state=random_state)"
      ]
    },
    {
      "cell_type": "code",
      "execution_count": null,
      "metadata": {
        "id": "7WyrvbJPbMop",
        "outputId": "c951d2d7-6da1-4e1f-ab0f-3d0469164a5c"
      },
      "outputs": [
        {
          "data": {
            "text/plain": [
              "LinearRegression()"
            ]
          },
          "execution_count": 28,
          "metadata": {},
          "output_type": "execute_result"
        }
      ],
      "source": [
        "# Entrenamos el modelo\n",
        "\n",
        "lr_2 = LinearRegression()\n",
        "lr_2.fit(X_train_2, y_train_2)"
      ]
    },
    {
      "cell_type": "code",
      "execution_count": null,
      "metadata": {
        "id": "LsKyGyPtbMoq"
      },
      "outputs": [],
      "source": [
        "# Hacemos las predicciones para el conjunto de validación\n",
        "\n",
        "lr_predictions_2 = lr_2.predict(X_val_2)"
      ]
    },
    {
      "cell_type": "code",
      "execution_count": null,
      "metadata": {
        "id": "sGjCb2uabMoq",
        "outputId": "9a33a6c4-36e3-4534-c422-bb38a4d64e62"
      },
      "outputs": [
        {
          "name": "stdout",
          "output_type": "stream",
          "text": [
            "Volumen promedio de las reservas: 95.00000000000004\n",
            "Linear Regression RMSE: 40.1276\n"
          ]
        }
      ],
      "source": [
        "# Mostramos en la pantalla el volumen promedio de las reservas previstas y la RECM del modelo\n",
        "\n",
        "print(f\"Volumen promedio de las reservas: {df2['product'].mean()}\")\n",
        "print(f\"Linear Regression RMSE: {round(mean_squared_error(y_val_2, lr_predictions_2, squared=False), 4)}\")"
      ]
    },
    {
      "cell_type": "code",
      "execution_count": null,
      "metadata": {
        "id": "mHUTahRbbMoq",
        "outputId": "e1ef55c2-cfa3-44b6-ba97-55bd46bac8de"
      },
      "outputs": [
        {
          "data": {
            "image/png": "[encoded data removed]",
            "text/plain": [
              "<Figure size 648x432 with 1 Axes>"
            ]
          },
          "metadata": {
            "needs_background": "light"
          },
          "output_type": "display_data"
        }
      ],
      "source": [
        "# Graficamos las predicciones y el rendimiento del modelo\n",
        "\n",
        "plt.figure(figsize=(9,6))\n",
        "plt.scatter(x=lr_predictions_2, y = y_val_2)\n",
        "plt.plot([0, 200], [0, 200], color = \"red\", ls=\"--\")\n",
        "plt.show()"
      ]
    },
    {
      "cell_type": "markdown",
      "metadata": {
        "id": "3xWnq9IObMoq"
      },
      "source": [
        "- De acuerdo al RMSE nuestro modelo se equivoca en promedio por 40.12 unidades, lo cual es bastante teniendo en cuenta que el valor promedio de las reservas es de 95.00.\n",
        "\n",
        "- Nuevamente, el gráfico nos muestra una correlación no muy alta, debido a que muchos de los valores están alejados de la recta."
      ]
    },
    {
      "cell_type": "markdown",
      "metadata": {
        "id": "qULg11a3bMoq"
      },
      "source": [
        "## Prepárate para el cálculo de ganancias"
      ]
    },
    {
      "cell_type": "markdown",
      "metadata": {
        "id": "61RWCsKrbMor"
      },
      "source": [
        "### Almacenar todos los valores clave para los cálculos en variables separadas."
      ]
    },
    {
      "cell_type": "code",
      "execution_count": null,
      "metadata": {
        "id": "IZUILAxNbMor"
      },
      "outputs": [],
      "source": [
        "# Para desarrollar 200 pozos se necesitan 1.000.000 USD\n",
        "# Un barril = 4.5 USD ingresos\n",
        "# una unidad de producto = 4.500 USD\n",
        "# Evaluación de riesgo: mantener solo regiones con probabilidad de pérdida de  menores a 2.5%\n",
        "# Escoger región con beneficio más alto"
      ]
    },
    {
      "cell_type": "markdown",
      "metadata": {
        "id": "Ku_YYQgAbMor"
      },
      "source": [
        "df0"
      ]
    },
    {
      "cell_type": "code",
      "execution_count": null,
      "metadata": {
        "id": "3ifZTYdfbMor"
      },
      "outputs": [],
      "source": [
        "# Utilizamos bootstraping para simular los beneficios\n",
        "\n",
        "n_iters = 1000\n",
        "benefits_0 = []\n",
        "\n",
        "for n in range(n_iters):\n",
        "    bootstrap_sample_0 = df0.sample(n=500, replace=True)\n",
        "    top_200_0 = bootstrap_sample_0.sort_values(by=\"product\", ascending = False).reset_index().head(200)\n",
        "\n",
        "    benefits_0.append((top_200_0[\"product\"] * 4500).sum())"
      ]
    },
    {
      "cell_type": "code",
      "execution_count": null,
      "metadata": {
        "scrolled": true,
        "id": "EgBgA6ZZbMor",
        "outputId": "afa2e8b6-e612-4dfd-f7c8-8e770f969f7b"
      },
      "outputs": [
        {
          "data": {
            "image/png": "[encoded data removed]",
            "text/plain": [
              "<Figure size 720x288 with 1 Axes>"
            ]
          },
          "metadata": {
            "needs_background": "light"
          },
          "output_type": "display_data"
        }
      ],
      "source": [
        "# Graficamos los beneficios\n",
        "\n",
        "plt.figure(figsize=(10,4))\n",
        "plt.hist(x=benefits_0, bins=20)\n",
        "plt.show()"
      ]
    },
    {
      "cell_type": "code",
      "execution_count": null,
      "metadata": {
        "id": "d8kUMiHNbMor",
        "outputId": "0a85fc26-804e-4aed-e5a7-bb88457e1d94"
      },
      "outputs": [
        {
          "data": {
            "text/plain": [
              "0.0"
            ]
          },
          "execution_count": 35,
          "metadata": {},
          "output_type": "execute_result"
        }
      ],
      "source": [
        "# Porcentaje de veces que los beneficios NO superan los costos\n",
        "(np.array(benefits_0) < 100000000).mean()"
      ]
    },
    {
      "cell_type": "code",
      "execution_count": null,
      "metadata": {
        "id": "ppcA_mXYbMos",
        "outputId": "c46297df-a395-47f5-8e03-ac656126ea43"
      },
      "outputs": [
        {
          "data": {
            "text/plain": [
              "123896480.79304485"
            ]
          },
          "execution_count": 36,
          "metadata": {},
          "output_type": "execute_result"
        }
      ],
      "source": [
        "# Valor a comparar con cada región para escoger la mejor región\n",
        "np.array(benefits_0).mean()"
      ]
    },
    {
      "cell_type": "code",
      "execution_count": null,
      "metadata": {
        "scrolled": true,
        "id": "rYj3tB7ibMos",
        "outputId": "5532b4fa-352c-46f1-fc10-ab15d1b255ed"
      },
      "outputs": [
        {
          "data": {
            "text/plain": [
              "500000.0"
            ]
          },
          "execution_count": 37,
          "metadata": {},
          "output_type": "execute_result"
        }
      ],
      "source": [
        "# Costo promedio por pozo\n",
        "100000000 / 200"
      ]
    },
    {
      "cell_type": "code",
      "execution_count": null,
      "metadata": {
        "id": "OMqQ9AUkbMos",
        "outputId": "2e874ee6-0c85-4e17-adbf-0a639d23657e"
      },
      "outputs": [
        {
          "data": {
            "text/plain": [
              "111.11111111111111"
            ]
          },
          "execution_count": 38,
          "metadata": {},
          "output_type": "execute_result"
        }
      ],
      "source": [
        "# Número de unidades requeridas por pozo para generar ganancias positivas\n",
        "500000.0 / 4500"
      ]
    },
    {
      "cell_type": "code",
      "execution_count": null,
      "metadata": {
        "id": "IWAs33dAbMos",
        "outputId": "097cc225-4dba-4a42-f702-18b3ace3870d"
      },
      "outputs": [
        {
          "data": {
            "text/plain": [
              "92.50000000000001"
            ]
          },
          "execution_count": 39,
          "metadata": {},
          "output_type": "execute_result"
        }
      ],
      "source": [
        "# Promedio de unidades por pozo en la región 0\n",
        "df0[\"product\"].mean()"
      ]
    },
    {
      "cell_type": "markdown",
      "metadata": {
        "id": "rkX9RQ1nbMos"
      },
      "source": [
        "df1"
      ]
    },
    {
      "cell_type": "code",
      "execution_count": null,
      "metadata": {
        "id": "jUmOLsVVbMot"
      },
      "outputs": [],
      "source": [
        "# Utilizamos bootstraping para simular los beneficios\n",
        "\n",
        "n_iters = 1000\n",
        "benefits_1 = []\n",
        "\n",
        "for n in range(n_iters):\n",
        "    bootstrap_sample_1 = df1.sample(n=500, replace=True)\n",
        "    top_200_1 = bootstrap_sample_1.sort_values(by=\"product\", ascending = False).reset_index().head(200)\n",
        "\n",
        "    benefits_1.append((top_200_1[\"product\"] * 4500).sum())"
      ]
    },
    {
      "cell_type": "code",
      "execution_count": null,
      "metadata": {
        "id": "VCpgOc9gbMot",
        "outputId": "647b89d4-b4ce-4197-e0a0-88c20f6398e1"
      },
      "outputs": [
        {
          "data": {
            "image/png": "[encoded data removed]",
            "text/plain": [
              "<Figure size 720x288 with 1 Axes>"
            ]
          },
          "metadata": {
            "needs_background": "light"
          },
          "output_type": "display_data"
        }
      ],
      "source": [
        "# Graficamos los beneficios\n",
        "\n",
        "plt.figure(figsize=(10,4))\n",
        "plt.hist(x=benefits_1, bins=20)\n",
        "plt.show()"
      ]
    },
    {
      "cell_type": "code",
      "execution_count": null,
      "metadata": {
        "id": "EL4AAQLPbMot",
        "outputId": "35607a46-f321-4790-e086-7c04a407c66e"
      },
      "outputs": [
        {
          "data": {
            "text/plain": [
              "0.013"
            ]
          },
          "execution_count": 42,
          "metadata": {},
          "output_type": "execute_result"
        }
      ],
      "source": [
        "# Porcentaje de veces que los beneficios NO superan los costos\n",
        "(np.array(benefits_1) < 100000000).mean()"
      ]
    },
    {
      "cell_type": "code",
      "execution_count": null,
      "metadata": {
        "id": "Va1h_xUtbMot",
        "outputId": "09e95937-758e-41dc-8e81-199545b5a3cc"
      },
      "outputs": [
        {
          "data": {
            "text/plain": [
              "104442299.3648071"
            ]
          },
          "execution_count": 43,
          "metadata": {},
          "output_type": "execute_result"
        }
      ],
      "source": [
        "# Valor a comparar con cada región para escoger la mejor región\n",
        "np.array(benefits_1).mean()"
      ]
    },
    {
      "cell_type": "code",
      "execution_count": null,
      "metadata": {
        "id": "ovp1TrO0bMou",
        "outputId": "8d901068-3aee-45e4-c739-3fae4dd9dfe4"
      },
      "outputs": [
        {
          "data": {
            "text/plain": [
              "68.82500000000002"
            ]
          },
          "execution_count": 44,
          "metadata": {},
          "output_type": "execute_result"
        }
      ],
      "source": [
        "# Promedio de unidades por pozo en la región 0\n",
        "df1[\"product\"].mean()"
      ]
    },
    {
      "cell_type": "markdown",
      "metadata": {
        "id": "KAvWH42lbMou"
      },
      "source": [
        "df2"
      ]
    },
    {
      "cell_type": "code",
      "execution_count": null,
      "metadata": {
        "id": "wGUpZHQBbMou"
      },
      "outputs": [],
      "source": [
        "# Utilizamos bootstraping para simular los beneficios\n",
        "\n",
        "n_iters = 1000\n",
        "benefits_2 = []\n",
        "\n",
        "for n in range(n_iters):\n",
        "    bootstrap_sample_2 = df2.sample(n=500, replace=True)\n",
        "    top_200_2 = bootstrap_sample_2.sort_values(by=\"product\", ascending = False).reset_index().head(200)\n",
        "\n",
        "    benefits_2.append((top_200_2[\"product\"] * 4500).sum())"
      ]
    },
    {
      "cell_type": "code",
      "execution_count": null,
      "metadata": {
        "id": "O02yucqrbMov",
        "outputId": "15f1f016-73c4-4736-b521-268a2268b377"
      },
      "outputs": [
        {
          "data": {
            "image/png": "[encoded data removed]",
            "text/plain": [
              "<Figure size 720x288 with 1 Axes>"
            ]
          },
          "metadata": {
            "needs_background": "light"
          },
          "output_type": "display_data"
        }
      ],
      "source": [
        "# Graficamos los beneficios\n",
        "\n",
        "plt.figure(figsize=(10,4))\n",
        "plt.hist(x=benefits_2, bins=20)\n",
        "plt.show()"
      ]
    },
    {
      "cell_type": "code",
      "execution_count": null,
      "metadata": {
        "id": "lczudRfjbMov",
        "outputId": "03ea60a0-3d7a-45c1-dde1-84eaa3d868d8"
      },
      "outputs": [
        {
          "data": {
            "text/plain": [
              "0.0"
            ]
          },
          "execution_count": 47,
          "metadata": {},
          "output_type": "execute_result"
        }
      ],
      "source": [
        "# Porcentaje de veces que los beneficios NO superan los costos\n",
        "(np.array(benefits_2) < 100000000).mean()"
      ]
    },
    {
      "cell_type": "code",
      "execution_count": null,
      "metadata": {
        "id": "t9EBa-K6bMov",
        "outputId": "061275e5-f221-4b5d-bf19-848323bfc20e"
      },
      "outputs": [
        {
          "data": {
            "text/plain": [
              "126402619.9602118"
            ]
          },
          "execution_count": 48,
          "metadata": {},
          "output_type": "execute_result"
        }
      ],
      "source": [
        "# Valor a comparar con cada región para escoger la mejor región\n",
        "np.array(benefits_2).mean()"
      ]
    },
    {
      "cell_type": "code",
      "execution_count": null,
      "metadata": {
        "scrolled": true,
        "id": "xMPiKi1vbMov",
        "outputId": "37d28f33-ed9e-460d-889b-718c3f7337c3"
      },
      "outputs": [
        {
          "data": {
            "text/plain": [
              "95.00000000000004"
            ]
          },
          "execution_count": 49,
          "metadata": {},
          "output_type": "execute_result"
        }
      ],
      "source": [
        "# Promedio de unidades por pozo en la región 0\n",
        "df2[\"product\"].mean()"
      ]
    },
    {
      "cell_type": "markdown",
      "metadata": {
        "id": "BciJb_H5bMov"
      },
      "source": [
        "- El costo promedio por pozo es de 500.000\n",
        "- Al calcular las ganancias, solo en la segunda región (df1) el 1.5% de las veces los beneficios no superan los costos. En las otras dos regiones no hubo pérdidas.\n",
        "- Por otra parte, las regiones con los beneficios promedio más altos son las regiones df0 (123,954,034) y df2 (126,435,483)."
      ]
    },
    {
      "cell_type": "markdown",
      "metadata": {
        "id": "wy4SJQ7sbMow"
      },
      "source": [
        "## Escribir una función para calcular la ganancia de un conjunto de pozos de petróleo seleccionados y modela las predicciones:"
      ]
    },
    {
      "cell_type": "code",
      "execution_count": null,
      "metadata": {
        "id": "lnnXMXt6bMow"
      },
      "outputs": [],
      "source": [
        "# Escribimos la función\n",
        "\n",
        "def calculate_profit(df, n_iters=1000, sample_size=500, selling_price=4500):\n",
        "    benefits = []\n",
        "\n",
        "    for n in range(n_iters):\n",
        "        bootstrap_sample = df.sample(n=sample_size, replace=True)\n",
        "        top_200 = bootstrap_sample.sort_values(by=\"predictions\", ascending=False).reset_index().head(200)\n",
        "\n",
        "        total_profit = (top_200[\"predictions\"] * selling_price).sum()\n",
        "        benefits.append(total_profit)\n",
        "\n",
        "    return benefits"
      ]
    },
    {
      "cell_type": "markdown",
      "metadata": {
        "id": "_Ey5GFs6bMow"
      },
      "source": [
        "### Escoger los pozos con los valores más altos de predicciones."
      ]
    },
    {
      "cell_type": "code",
      "execution_count": null,
      "metadata": {
        "id": "1ty_4OrkbMow"
      },
      "outputs": [],
      "source": [
        "# Utilizamos la función sobre las predicciones de nuestro modelo LinearRegression y guardamos los resultados\n",
        "predictions_df0 = pd.DataFrame({\"predictions\": lr_predictions_0})\n",
        "predictions_df1 = pd.DataFrame({\"predictions\": lr_predictions_1})\n",
        "predictions_df2 = pd.DataFrame({\"predictions\": lr_predictions_0})\n",
        "\n",
        "benefits_df0 = calculate_profit(predictions_df0)\n",
        "benefits_df1 = calculate_profit(predictions_df1)\n",
        "benefits_df2 = calculate_profit(predictions_df2)\n"
      ]
    },
    {
      "cell_type": "code",
      "execution_count": null,
      "metadata": {
        "scrolled": true,
        "id": "qNZyJp3-bMow",
        "outputId": "0a0e4298-8430-4152-c20a-67e4dbd867fd"
      },
      "outputs": [
        {
          "data": {
            "image/png": "[encoded data removed]",
            "text/plain": [
              "<Figure size 720x288 with 1 Axes>"
            ]
          },
          "metadata": {
            "needs_background": "light"
          },
          "output_type": "display_data"
        }
      ],
      "source": [
        "# Graficamos los beneficios de df0 a partir de las predicciones\n",
        "plt.figure(figsize=(10,4))\n",
        "plt.hist(x=benefits_df0, bins=20)\n",
        "plt.show()"
      ]
    },
    {
      "cell_type": "code",
      "execution_count": null,
      "metadata": {
        "scrolled": true,
        "id": "-OWD_pDcbMow",
        "outputId": "02c1722e-9733-4cbb-9a18-81c910a605fb"
      },
      "outputs": [
        {
          "data": {
            "text/plain": [
              "103390765.36733526"
            ]
          },
          "execution_count": 53,
          "metadata": {},
          "output_type": "execute_result"
        }
      ],
      "source": [
        "# Ganancia promedio de df0 a partir de las predicciones\n",
        "np.array(benefits_df0).mean()"
      ]
    },
    {
      "cell_type": "code",
      "execution_count": null,
      "metadata": {
        "id": "f-EZc6I3bMox",
        "outputId": "b01b26db-6742-448a-9710-d52551a160e0"
      },
      "outputs": [
        {
          "data": {
            "text/plain": [
              "0.003"
            ]
          },
          "execution_count": 54,
          "metadata": {},
          "output_type": "execute_result"
        }
      ],
      "source": [
        "# Porcentaje de veces que los beneficios NO superan los costos en df0\n",
        "(np.array(benefits_df0) < 100000000).mean()"
      ]
    },
    {
      "cell_type": "code",
      "execution_count": null,
      "metadata": {
        "scrolled": false,
        "id": "u_EwSmGgbMox",
        "outputId": "8233b32f-c528-473c-fc1d-5c998c6b0754"
      },
      "outputs": [
        {
          "data": {
            "image/png": "[encoded data removed]",
            "text/plain": [
              "<Figure size 720x288 with 1 Axes>"
            ]
          },
          "metadata": {
            "needs_background": "light"
          },
          "output_type": "display_data"
        }
      ],
      "source": [
        "# Graficamos los beneficios de df1 a partir de las predicciones\n",
        "plt.figure(figsize=(10,4))\n",
        "plt.hist(x=benefits_df1, bins=20)\n",
        "plt.show()"
      ]
    },
    {
      "cell_type": "code",
      "execution_count": null,
      "metadata": {
        "id": "F_PKDkpzbMox",
        "outputId": "f482b970-c3e3-4887-a42d-31e0084f83f8"
      },
      "outputs": [
        {
          "data": {
            "text/plain": [
              "104658968.11168301"
            ]
          },
          "execution_count": 56,
          "metadata": {},
          "output_type": "execute_result"
        }
      ],
      "source": [
        "# Ganancia promedio de df1 a partir de las predicciones\n",
        "np.array(benefits_df1).mean()"
      ]
    },
    {
      "cell_type": "code",
      "execution_count": null,
      "metadata": {
        "id": "DS90huNobMox",
        "outputId": "9c66d8c0-51e2-4373-ed5d-1d48524ea87a"
      },
      "outputs": [
        {
          "data": {
            "text/plain": [
              "0.01"
            ]
          },
          "execution_count": 57,
          "metadata": {},
          "output_type": "execute_result"
        }
      ],
      "source": [
        "# Porcentaje de veces que los beneficios NO superan los costos en df1\n",
        "(np.array(benefits_df1) < 100000000).mean()"
      ]
    },
    {
      "cell_type": "code",
      "execution_count": null,
      "metadata": {
        "id": "BCBIrxWybMox",
        "outputId": "0e3da3df-defe-4c81-b4f2-442ff99dc11e"
      },
      "outputs": [
        {
          "data": {
            "image/png": "[encoded data removed]",
            "text/plain": [
              "<Figure size 720x288 with 1 Axes>"
            ]
          },
          "metadata": {
            "needs_background": "light"
          },
          "output_type": "display_data"
        }
      ],
      "source": [
        "# Graficamos los beneficios de df2 a partir de las predicciones\n",
        "plt.figure(figsize=(10,4))\n",
        "plt.hist(x=benefits_df2, bins=20)\n",
        "plt.show()"
      ]
    },
    {
      "cell_type": "code",
      "execution_count": null,
      "metadata": {
        "id": "IVWEtDu8bMoy",
        "outputId": "f5a37077-d81d-4a76-ac1f-a1b45b348a1a"
      },
      "outputs": [
        {
          "data": {
            "text/plain": [
              "103397030.72014791"
            ]
          },
          "execution_count": 59,
          "metadata": {},
          "output_type": "execute_result"
        }
      ],
      "source": [
        "# Ganancia promedio de df2 a partir de las predicciones\n",
        "np.array(benefits_df2).mean()"
      ]
    },
    {
      "cell_type": "code",
      "execution_count": null,
      "metadata": {
        "id": "6D2N1NVDbMoy",
        "outputId": "0b20bff3-e539-4b3d-cb04-c69948675a89"
      },
      "outputs": [
        {
          "data": {
            "text/plain": [
              "0.001"
            ]
          },
          "execution_count": 60,
          "metadata": {},
          "output_type": "execute_result"
        }
      ],
      "source": [
        "# Porcentaje de veces que los beneficios NO superan los costos\n",
        "(np.array(benefits_df2) < 100000000).mean()"
      ]
    },
    {
      "cell_type": "markdown",
      "metadata": {
        "id": "uAsER2IZbMoy"
      },
      "source": [
        "- En este caso en todas las regiones el porcentaje de veces en las que los beneficios no superan los $100,000,000 es menor a 2.5%.\n",
        "- La región df1 fue la que presentó el mayor porcentaje de pérdida (1.3%).\n",
        "- De acuerdo a las predicciones, la región df1 es la que presenta un promedio de ganancia más alto con un valor de 104.489.652. Sin embargo, no es un valor muy alejado al que presentan las predicciones de las otras dos regiones."
      ]
    },
    {
      "cell_type": "markdown",
      "metadata": {
        "id": "XE4ASLlsbMoy"
      },
      "source": [
        "### Resumir el volumen objetivo de reservas de acuerdo con estas predicciones"
      ]
    },
    {
      "cell_type": "code",
      "execution_count": null,
      "metadata": {
        "scrolled": true,
        "id": "KKkxb5nDbMoy",
        "outputId": "c28d30eb-db35-4dd8-bcb5-f4449f06a9c7"
      },
      "outputs": [
        {
          "data": {
            "text/html": [
              "<div>\n",
              "<style scoped>\n",
              "    .dataframe tbody tr th:only-of-type {\n",
              "        vertical-align: middle;\n",
              "    }\n",
              "\n",
              "    .dataframe tbody tr th {\n",
              "        vertical-align: top;\n",
              "    }\n",
              "\n",
              "    .dataframe thead th {\n",
              "        text-align: right;\n",
              "    }\n",
              "</style>\n",
              "<table border=\"1\" class=\"dataframe\">\n",
              "  <thead>\n",
              "    <tr style=\"text-align: right;\">\n",
              "      <th></th>\n",
              "      <th>predictions</th>\n",
              "    </tr>\n",
              "  </thead>\n",
              "  <tbody>\n",
              "    <tr>\n",
              "      <th>12345</th>\n",
              "      <td>185.531997</td>\n",
              "    </tr>\n",
              "    <tr>\n",
              "      <th>9809</th>\n",
              "      <td>175.994362</td>\n",
              "    </tr>\n",
              "    <tr>\n",
              "      <th>12309</th>\n",
              "      <td>175.399113</td>\n",
              "    </tr>\n",
              "    <tr>\n",
              "      <th>8921</th>\n",
              "      <td>172.961672</td>\n",
              "    </tr>\n",
              "    <tr>\n",
              "      <th>609</th>\n",
              "      <td>172.941723</td>\n",
              "    </tr>\n",
              "    <tr>\n",
              "      <th>...</th>\n",
              "      <td>...</td>\n",
              "    </tr>\n",
              "    <tr>\n",
              "      <th>10199</th>\n",
              "      <td>147.579719</td>\n",
              "    </tr>\n",
              "    <tr>\n",
              "      <th>2657</th>\n",
              "      <td>147.565992</td>\n",
              "    </tr>\n",
              "    <tr>\n",
              "      <th>5283</th>\n",
              "      <td>147.543117</td>\n",
              "    </tr>\n",
              "    <tr>\n",
              "      <th>5861</th>\n",
              "      <td>147.530884</td>\n",
              "    </tr>\n",
              "    <tr>\n",
              "      <th>8414</th>\n",
              "      <td>147.510880</td>\n",
              "    </tr>\n",
              "  </tbody>\n",
              "</table>\n",
              "<p>200 rows × 1 columns</p>\n",
              "</div>"
            ],
            "text/plain": [
              "       predictions\n",
              "12345   185.531997\n",
              "9809    175.994362\n",
              "12309   175.399113\n",
              "8921    172.961672\n",
              "609     172.941723\n",
              "...            ...\n",
              "10199   147.579719\n",
              "2657    147.565992\n",
              "5283    147.543117\n",
              "5861    147.530884\n",
              "8414    147.510880\n",
              "\n",
              "[200 rows x 1 columns]"
            ]
          },
          "execution_count": 61,
          "metadata": {},
          "output_type": "execute_result"
        }
      ],
      "source": [
        "# Resumen objetivo df0\n",
        "predictions_df0.sort_values(\"predictions\", ascending=False).head(200)"
      ]
    },
    {
      "cell_type": "code",
      "execution_count": null,
      "metadata": {
        "scrolled": true,
        "id": "whxn86cZbMoz",
        "outputId": "49a85e30-61c0-4804-f093-150d3de57413"
      },
      "outputs": [
        {
          "data": {
            "text/html": [
              "<div>\n",
              "<style scoped>\n",
              "    .dataframe tbody tr th:only-of-type {\n",
              "        vertical-align: middle;\n",
              "    }\n",
              "\n",
              "    .dataframe tbody tr th {\n",
              "        vertical-align: top;\n",
              "    }\n",
              "\n",
              "    .dataframe thead th {\n",
              "        text-align: right;\n",
              "    }\n",
              "</style>\n",
              "<table border=\"1\" class=\"dataframe\">\n",
              "  <thead>\n",
              "    <tr style=\"text-align: right;\">\n",
              "      <th></th>\n",
              "      <th>predictions</th>\n",
              "    </tr>\n",
              "  </thead>\n",
              "  <tbody>\n",
              "    <tr>\n",
              "      <th>20799</th>\n",
              "      <td>139.906268</td>\n",
              "    </tr>\n",
              "    <tr>\n",
              "      <th>13026</th>\n",
              "      <td>139.679255</td>\n",
              "    </tr>\n",
              "    <tr>\n",
              "      <th>7003</th>\n",
              "      <td>139.477529</td>\n",
              "    </tr>\n",
              "    <tr>\n",
              "      <th>19610</th>\n",
              "      <td>139.476751</td>\n",
              "    </tr>\n",
              "    <tr>\n",
              "      <th>17112</th>\n",
              "      <td>139.427533</td>\n",
              "    </tr>\n",
              "    <tr>\n",
              "      <th>...</th>\n",
              "      <td>...</td>\n",
              "    </tr>\n",
              "    <tr>\n",
              "      <th>23889</th>\n",
              "      <td>138.427194</td>\n",
              "    </tr>\n",
              "    <tr>\n",
              "      <th>5845</th>\n",
              "      <td>138.425966</td>\n",
              "    </tr>\n",
              "    <tr>\n",
              "      <th>1817</th>\n",
              "      <td>138.425038</td>\n",
              "    </tr>\n",
              "    <tr>\n",
              "      <th>20614</th>\n",
              "      <td>138.419094</td>\n",
              "    </tr>\n",
              "    <tr>\n",
              "      <th>6690</th>\n",
              "      <td>138.413686</td>\n",
              "    </tr>\n",
              "  </tbody>\n",
              "</table>\n",
              "<p>200 rows × 1 columns</p>\n",
              "</div>"
            ],
            "text/plain": [
              "       predictions\n",
              "20799   139.906268\n",
              "13026   139.679255\n",
              "7003    139.477529\n",
              "19610   139.476751\n",
              "17112   139.427533\n",
              "...            ...\n",
              "23889   138.427194\n",
              "5845    138.425966\n",
              "1817    138.425038\n",
              "20614   138.419094\n",
              "6690    138.413686\n",
              "\n",
              "[200 rows x 1 columns]"
            ]
          },
          "execution_count": 62,
          "metadata": {},
          "output_type": "execute_result"
        }
      ],
      "source": [
        "# Resumen objetivo df1\n",
        "predictions_df1.sort_values(\"predictions\", ascending=False).head(200)"
      ]
    },
    {
      "cell_type": "code",
      "execution_count": null,
      "metadata": {
        "id": "d9oRWjtGbMoz",
        "outputId": "b217e187-ab9d-4a22-e2a5-ef3534f50a84"
      },
      "outputs": [
        {
          "data": {
            "text/html": [
              "<div>\n",
              "<style scoped>\n",
              "    .dataframe tbody tr th:only-of-type {\n",
              "        vertical-align: middle;\n",
              "    }\n",
              "\n",
              "    .dataframe tbody tr th {\n",
              "        vertical-align: top;\n",
              "    }\n",
              "\n",
              "    .dataframe thead th {\n",
              "        text-align: right;\n",
              "    }\n",
              "</style>\n",
              "<table border=\"1\" class=\"dataframe\">\n",
              "  <thead>\n",
              "    <tr style=\"text-align: right;\">\n",
              "      <th></th>\n",
              "      <th>predictions</th>\n",
              "    </tr>\n",
              "  </thead>\n",
              "  <tbody>\n",
              "    <tr>\n",
              "      <th>12345</th>\n",
              "      <td>185.531997</td>\n",
              "    </tr>\n",
              "    <tr>\n",
              "      <th>9809</th>\n",
              "      <td>175.994362</td>\n",
              "    </tr>\n",
              "    <tr>\n",
              "      <th>12309</th>\n",
              "      <td>175.399113</td>\n",
              "    </tr>\n",
              "    <tr>\n",
              "      <th>8921</th>\n",
              "      <td>172.961672</td>\n",
              "    </tr>\n",
              "    <tr>\n",
              "      <th>609</th>\n",
              "      <td>172.941723</td>\n",
              "    </tr>\n",
              "    <tr>\n",
              "      <th>...</th>\n",
              "      <td>...</td>\n",
              "    </tr>\n",
              "    <tr>\n",
              "      <th>10199</th>\n",
              "      <td>147.579719</td>\n",
              "    </tr>\n",
              "    <tr>\n",
              "      <th>2657</th>\n",
              "      <td>147.565992</td>\n",
              "    </tr>\n",
              "    <tr>\n",
              "      <th>5283</th>\n",
              "      <td>147.543117</td>\n",
              "    </tr>\n",
              "    <tr>\n",
              "      <th>5861</th>\n",
              "      <td>147.530884</td>\n",
              "    </tr>\n",
              "    <tr>\n",
              "      <th>8414</th>\n",
              "      <td>147.510880</td>\n",
              "    </tr>\n",
              "  </tbody>\n",
              "</table>\n",
              "<p>200 rows × 1 columns</p>\n",
              "</div>"
            ],
            "text/plain": [
              "       predictions\n",
              "12345   185.531997\n",
              "9809    175.994362\n",
              "12309   175.399113\n",
              "8921    172.961672\n",
              "609     172.941723\n",
              "...            ...\n",
              "10199   147.579719\n",
              "2657    147.565992\n",
              "5283    147.543117\n",
              "5861    147.530884\n",
              "8414    147.510880\n",
              "\n",
              "[200 rows x 1 columns]"
            ]
          },
          "execution_count": 63,
          "metadata": {},
          "output_type": "execute_result"
        }
      ],
      "source": [
        "# Resumen objetivo df2\n",
        "predictions_df2.sort_values(\"predictions\", ascending=False).head(200)"
      ]
    },
    {
      "cell_type": "markdown",
      "metadata": {
        "id": "uTkot2_hbMoz"
      },
      "source": [
        "### Proporciona los hallazgos: sugiere una región para el desarrollo de pozos petroleros y justifica la elección. Calcula el beneficio por el volumen de reservas obtenido."
      ]
    },
    {
      "cell_type": "markdown",
      "metadata": {
        "id": "UUO7dLMGbMoz"
      },
      "source": [
        "Al realizar los cálculos, pudimos ver que las regiones df0 y df2 son las que tienen menor porcentaje de pérdida. Entre estas dos, la región df2 tiene una mayor ganancia promedio, pero por muy poco. Por otro lado, al observar el histograma, df1 tiene una varianza más centrada, por lo que la sugeriremos como la región para desarrollar los pozos."
      ]
    },
    {
      "cell_type": "markdown",
      "metadata": {
        "id": "ONAgkM43bMoz"
      },
      "source": [
        "## Calcula riesgos y ganancias para cada región:\n",
        "\n",
        "###  Usa la técnica bootstrapping con 1000 muestras para encontrar la distribución del beneficio.\n"
      ]
    },
    {
      "cell_type": "code",
      "execution_count": null,
      "metadata": {
        "id": "pBwZ_lmPbMoz"
      },
      "outputs": [],
      "source": [
        "# Nuevamente utilizamos nuestra función basada en bootstrapping para calcular las ganancias de cada región\n",
        "\n",
        "def calculate_profit(df, n_iters=1000, sample_size=500, selling_price=4500):\n",
        "    benefits = []\n",
        "\n",
        "    for n in range(n_iters):\n",
        "        bootstrap_sample = df.sample(n=sample_size, replace=True)\n",
        "        top_200 = bootstrap_sample.sort_values(by=\"predictions\", ascending=False).reset_index().head(200)\n",
        "\n",
        "        total_profit = (top_200[\"predictions\"] * selling_price).sum()\n",
        "        benefits.append(total_profit)\n",
        "\n",
        "    return benefits"
      ]
    },
    {
      "cell_type": "code",
      "execution_count": null,
      "metadata": {
        "id": "jKKwmHtibMo0"
      },
      "outputs": [],
      "source": [
        "# guardamos los beneficios para cada región\n",
        "\n",
        "benefits_df0 = calculate_profit(predictions_df0)\n",
        "benefits_df1 = calculate_profit(predictions_df1)\n",
        "benefits_df2 = calculate_profit(predictions_df2)\n"
      ]
    },
    {
      "cell_type": "markdown",
      "metadata": {
        "id": "saO7p_HNbMo0"
      },
      "source": [
        "### Encuentra el beneficio promedio, el intervalo de confianza del 95% y el riesgo de pérdidas. La pérdida es una ganancia negativa, calcúlala como una probabilidad y luego exprésala como un porcentaje.\n"
      ]
    },
    {
      "cell_type": "code",
      "execution_count": null,
      "metadata": {
        "scrolled": true,
        "id": "_rHsDQqGbMo0",
        "outputId": "f02881df-c45f-4989-ae2d-1a73ec689208"
      },
      "outputs": [
        {
          "name": "stdout",
          "output_type": "stream",
          "text": [
            "Beneficio promedio df0: 103446537\n",
            "Beneficio promedio df1: 104469547\n",
            "Beneficio promedio df2: 103422244\n"
          ]
        }
      ],
      "source": [
        "# Beneficio promedio\n",
        "mean_df0 = np.mean(benefits_df0)\n",
        "mean_df1 = np.mean(benefits_df1)\n",
        "mean_df2 = np.mean(benefits_df2)\n",
        "\n",
        "print(f\"Beneficio promedio df0: {int(mean_df0)}\")\n",
        "print(f\"Beneficio promedio df1: {int(mean_df1)}\")\n",
        "print(f\"Beneficio promedio df2: {int(mean_df2)}\")"
      ]
    },
    {
      "cell_type": "code",
      "execution_count": null,
      "metadata": {
        "id": "AZT2v3nGbMo0",
        "outputId": "1f4ca37c-dbdb-452f-b029-ef94400cda2a"
      },
      "outputs": [
        {
          "name": "stdout",
          "output_type": "stream",
          "text": [
            "Intervalo de confianza del 95% para df0: (103375803.287902, 103517272.48888958)\n",
            "Intervalo de confianza del 95% para df1: (104346557.91268812, 104592536.87238471)\n",
            "Intervalo de confianza del 95% para df2: (103350211.57168294, 103494278.41041581)\n"
          ]
        }
      ],
      "source": [
        "# Calcular el intervalo de confianza del 95%\n",
        "\n",
        "confidence_level = 0.95\n",
        "\n",
        "confidence_interval_df0 = stats.t.interval(confidence_level, len(benefits_df0) - 1, loc=np.mean(benefits_df0), scale=stats.sem(benefits_df0))\n",
        "confidence_interval_df1 = stats.t.interval(confidence_level, len(benefits_df1) - 1, loc=np.mean(benefits_df1), scale=stats.sem(benefits_df1))\n",
        "confidence_interval_df2 = stats.t.interval(confidence_level, len(benefits_df2) - 1, loc=np.mean(benefits_df2), scale=stats.sem(benefits_df2))\n",
        "\n",
        "print(\"Intervalo de confianza del 95% para df0:\", confidence_interval_df0)\n",
        "print(\"Intervalo de confianza del 95% para df1:\", confidence_interval_df1)\n",
        "print(\"Intervalo de confianza del 95% para df2:\", confidence_interval_df2)\n"
      ]
    },
    {
      "cell_type": "code",
      "execution_count": null,
      "metadata": {
        "id": "ucJGeKy4bMo0",
        "outputId": "25e8ea3b-e591-4457-e73e-4775b1cea8c6"
      },
      "outputs": [
        {
          "name": "stdout",
          "output_type": "stream",
          "text": [
            "Porcentaje de ganancias negativas de df0: 0.002\n",
            "Porcentaje de ganancias negativas de df1: 0.016\n",
            "Porcentaje de ganancias negativas de df2: 0.003\n"
          ]
        }
      ],
      "source": [
        "# Calculamos el porcentaje de ganancias negativas\n",
        "\n",
        "neg_df0 = (np.array(benefits_df0) < 100000000).mean()\n",
        "neg_df1 = (np.array(benefits_df1) < 100000000).mean()\n",
        "neg_df2 = (np.array(benefits_df2) < 100000000).mean()\n",
        "\n",
        "print(f\"Porcentaje de ganancias negativas de df0: {neg_df0}\")\n",
        "print(f\"Porcentaje de ganancias negativas de df1: {neg_df1}\")\n",
        "print(f\"Porcentaje de ganancias negativas de df2: {neg_df2}\")"
      ]
    },
    {
      "cell_type": "markdown",
      "metadata": {
        "id": "ghLGNOphbMo1"
      },
      "source": [
        "### Proporciona los hallazgos: sugiere una región para el desarrollo de pozos petroleros y justifica la elección."
      ]
    },
    {
      "cell_type": "markdown",
      "metadata": {
        "id": "N0NhmyiabMo1"
      },
      "source": [
        "- Al observar los intervalos de confianza no vemos diferencias significativas entre las regiones.\n",
        "- Como mencionamos anterior mente, pudimos ver que las regiones df0 y df2 son las que tienen menor porcentaje de pérdida. Entre estas dos, la región df2 tiene una mayor ganancia promedio, pero por muy poco. Por otro lado, al observar el histograma, df1 tiene una varianza más centrada, por lo que la sugeriremos como la región para desarrollar los pozos."
      ]
    },
    {
      "cell_type": "markdown",
      "metadata": {
        "id": "QbxpEn9mbMo1"
      },
      "source": [
        "## Conclusión:\n",
        "\n",
        "- 1 Al estudiar la tabla:\n",
        " - Los 3 DataFrames se componen de 100.000 filas y 5 columnas.\n",
        " - Los formatos de las columnas son correctos y los formatos de los nombres de las columnas también.\n",
        " - No hay valores nulos en los DF.\n",
        " - Tampoco hay valores duplicados.\n",
        "- 2 Al entrenar nuestro modelo con LR:\n",
        " - df0:\n",
        "  - De acuerdo al RMSE nuestro modelo se equivoca en promedio por 38.86 unidades, lo cual es bastante teniendo en cuenta que el valor promedio de las reservas es de 85.44.\n",
        "\n",
        "  - Por otro lado, el gráfico nos muestra una correlación no muy alta, debido a que muchos de los valores están alejados de la recta.\n",
        " - df1:\n",
        "  - De acuerdo al RMSE nuestro modelo se equivoca en promedio por 0.88 unidades, un valor bastante bajo que, en este caso nos indica un desempeño bastante alto.\n",
        "  - Por otro lado, el gráfico nos muestra una correlación bastante alta, debido a que todos los valores están bastante cerca de la recta.\n",
        " - df2:\n",
        " - De acuerdo al RMSE nuestro modelo se equivoca en promedio por 0.88 unidades, un valor bastante bajo que, en este caso nos indica un desempeño bastante alto.\n",
        " - Por otro lado, el gráfico nos muestra una correlación bastante alta, debido a que todos los valores están bastante cerca de la recta.\n",
        "- 3 Al calcular las ganancias.\n",
        " - El costo promedio por pozo es de 500.000\n",
        " - Al calcular las ganancias, solo en la segunda región (df1) el 1.5% de las veces los beneficios no superan los costos. En las otras dos regiones no hubo pérdidas.\n",
        " - Por otra parte, las regiones con los beneficios promedio más altos son las regiones df0 (123,954,034) y df2 (126,435,483).\n",
        "- 4 Al calcular riesgos y ganancias con bootstrapping y por medio de las predicciones:\n",
        " - Al observar los intervalos de confianza no vemos diferencias significativas entre las regiones.\n",
        " - Como mencionamos anterior mente, pudimos ver que las regiones df0 y df2 son las que tienen menor porcentaje de pérdida. Entre estas dos, la región df2 tiene una mayor ganancia promedio, pero por muy poco. Por otro lado, al observar el histograma, df1 tiene una varianza más centrada, por lo que la sugeriremos como la región para desarrollar los pozos."
      ]
    },
    {
      "cell_type": "markdown",
      "metadata": {
        "id": "ue2D8QrObMo1"
      },
      "source": [
        "<div class=\"alert alert-block alert-success\">\n",
        "<b>Comentario del revisor</b> <a class=\"tocSkip\"></a>\n",
        "\n",
        "# Comentario General\n",
        "\n",
        "¡Buen trabajo! Te felicito, definitivamente has realizado un proyecto excelente.\n",
        "</div>"
      ]
    },
    {
      "cell_type": "code",
      "execution_count": null,
      "metadata": {
        "id": "BcMUXzSZbMo1"
      },
      "outputs": [],
      "source": []
    }
  ],
  "metadata": {
    "kernelspec": {
      "display_name": "Python 3 (ipykernel)",
      "language": "python",
      "name": "python3"
    },
    "language_info": {
      "codemirror_mode": {
        "name": "ipython",
        "version": 3
      },
      "file_extension": ".py",
      "mimetype": "text/x-python",
      "name": "python",
      "nbconvert_exporter": "python",
      "pygments_lexer": "ipython3",
      "version": "3.9.5"
    },
    "toc": {
      "base_numbering": 1,
      "nav_menu": {},
      "number_sections": true,
      "sideBar": true,
      "skip_h1_title": true,
      "title_cell": "Table of Contents",
      "title_sidebar": "Contents",
      "toc_cell": false,
      "toc_position": {},
      "toc_section_display": true,
      "toc_window_display": false
    },
    "colab": {
      "provenance": []
    }
  },
  "nbformat": 4,
  "nbformat_minor": 0
}